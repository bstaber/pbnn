{
 "cells": [
  {
   "cell_type": "markdown",
   "metadata": {},
   "source": [
    "# Training a network: Flax vs PyTorch"
   ]
  },
  {
   "cell_type": "code",
   "execution_count": 1,
   "metadata": {},
   "outputs": [],
   "source": [
    "import flax.linen as jnn\n",
    "import jax\n",
    "import jax.numpy as jnp\n",
    "import jax.random as jr\n",
    "import matplotlib.pyplot as plt\n",
    "import numpy as np\n",
    "import optax\n",
    "import torch\n",
    "import torch.nn as nn\n",
    "import torch.optim as optim\n",
    "from flax.training import train_state\n",
    "from jax.flatten_util import ravel_pytree\n",
    "from sklearn.preprocessing import StandardScaler\n",
    "from torch.utils.data import DataLoader, TensorDataset\n",
    "\n",
    "from pbnn.utils.data import NumpyDataset, NumpyLoader\n",
    "\n",
    "%load_ext watermark"
   ]
  },
  {
   "cell_type": "markdown",
   "metadata": {},
   "source": [
    "## Generate data"
   ]
  },
  {
   "cell_type": "code",
   "execution_count": 2,
   "metadata": {},
   "outputs": [],
   "source": [
    "def test_function(x):\n",
    "    return np.sin(2.0 * x) + np.cos(x)\n",
    "\n",
    "\n",
    "n = 100\n",
    "noise_level = 0.1\n",
    "\n",
    "np.random.seed(0)\n",
    "X = 20 * np.random.rand(n, 1)\n",
    "X_test = np.linspace(0, 20, 200)[:, None]\n",
    "\n",
    "noise, noise_test = (\n",
    "    np.random.randn(n, 1) * noise_level,\n",
    "    np.random.randn(len(X_test), 1) * noise_level,\n",
    ")\n",
    "\n",
    "y = test_function(X) + noise\n",
    "y_test = test_function(X_test) + noise_test\n",
    "\n",
    "scaler = StandardScaler()\n",
    "X_ = scaler.fit_transform(X)\n",
    "X_test_ = scaler.transform(X_test)"
   ]
  },
  {
   "cell_type": "markdown",
   "metadata": {},
   "source": [
    "## Set some hyperparameters"
   ]
  },
  {
   "cell_type": "code",
   "execution_count": 3,
   "metadata": {},
   "outputs": [],
   "source": [
    "num_epochs = 1000\n",
    "step_size = 5e-3\n",
    "batch_size = 32"
   ]
  },
  {
   "cell_type": "markdown",
   "metadata": {},
   "source": [
    "## Training with Flax"
   ]
  },
  {
   "cell_type": "markdown",
   "metadata": {},
   "source": [
    "### Define network"
   ]
  },
  {
   "cell_type": "code",
   "execution_count": 4,
   "metadata": {},
   "outputs": [],
   "source": [
    "class MLP(jnn.Module):\n",
    "    \"\"\"Simple MLP.\"\"\"\n",
    "\n",
    "    @jnn.compact\n",
    "    def __call__(self, x):\n",
    "        x = jnn.Dense(features=50)(x)\n",
    "        x = jnn.tanh(x)\n",
    "        x = jnn.Dense(features=50)(x)\n",
    "        x = jnn.tanh(x)\n",
    "        x = jnn.Dense(features=1)(x)\n",
    "        return x\n",
    "\n",
    "\n",
    "network = MLP()"
   ]
  },
  {
   "cell_type": "markdown",
   "metadata": {},
   "source": [
    "### Define loss function"
   ]
  },
  {
   "cell_type": "code",
   "execution_count": 5,
   "metadata": {},
   "outputs": [],
   "source": [
    "def loss_fn(params, batch):\n",
    "    X, y = batch\n",
    "    pred = network.apply({\"params\": params}, X)\n",
    "    return jnp.mean(optax.l2_loss(y, pred))"
   ]
  },
  {
   "cell_type": "markdown",
   "metadata": {},
   "source": [
    "### Training pipeline"
   ]
  },
  {
   "cell_type": "code",
   "execution_count": 6,
   "metadata": {},
   "outputs": [
    {
     "name": "stderr",
     "output_type": "stream",
     "text": [
      "An NVIDIA GPU may be present on this machine, but a CUDA-enabled jaxlib is not installed. Falling back to cpu.\n"
     ]
    }
   ],
   "source": [
    "@jax.jit\n",
    "def train_step(state, batch):\n",
    "    grad_fn = jax.grad(loss_fn)\n",
    "    grads = grad_fn(state.params, batch)\n",
    "    state = state.apply_gradients(grads=grads)\n",
    "    return state\n",
    "\n",
    "\n",
    "rng_key = jr.PRNGKey(0)\n",
    "rng_key, init_rng = jr.split(rng_key)\n",
    "\n",
    "init_params = network.init(init_rng, X_)[\"params\"]\n",
    "tx = optax.adam(step_size)\n",
    "state = train_state.TrainState.create(apply_fn=network.apply, params=init_params, tx=tx)\n",
    "\n",
    "dataset = NumpyDataset(X_, y)\n",
    "data_loader = NumpyLoader(dataset, batch_size=batch_size, shuffle=True, drop_last=True)\n",
    "\n",
    "for epoch in range(num_epochs):\n",
    "    for batch in data_loader:\n",
    "        state = train_step(state, batch)\n",
    "\n",
    "pred_flax = network.apply({\"params\": state.params}, X_test_)"
   ]
  },
  {
   "cell_type": "markdown",
   "metadata": {},
   "source": [
    "## Training with PyTorch"
   ]
  },
  {
   "cell_type": "markdown",
   "metadata": {},
   "source": [
    "### Get initial parameters\n",
    "\n",
    "Using the same initial state as the flax model"
   ]
  },
  {
   "cell_type": "code",
   "execution_count": 7,
   "metadata": {},
   "outputs": [],
   "source": [
    "parameters, _ = ravel_pytree(init_params)\n",
    "parameters = torch.tensor(np.array(parameters), dtype=torch.float32)\n",
    "\n",
    "model = nn.Sequential(\n",
    "    nn.Linear(1, 50), nn.Tanh(), nn.Linear(50, 50), nn.Tanh(), nn.Linear(50, 1)\n",
    ")\n",
    "\n",
    "with torch.no_grad():\n",
    "    pointer = 0\n",
    "    for param in parameters:\n",
    "        num_param = param.numel()\n",
    "        param.copy_(parameters[pointer : pointer + num_param].view(param.size()))\n",
    "        pointer += num_param"
   ]
  },
  {
   "cell_type": "markdown",
   "metadata": {},
   "source": [
    "### Training pipeline"
   ]
  },
  {
   "cell_type": "code",
   "execution_count": 8,
   "metadata": {},
   "outputs": [],
   "source": [
    "mse_fn = nn.MSELoss()\n",
    "\n",
    "train_loader = DataLoader(\n",
    "    dataset=TensorDataset(\n",
    "        torch.tensor(X_, dtype=torch.float32), torch.tensor(y, dtype=torch.float32)\n",
    "    ),\n",
    "    batch_size=batch_size,\n",
    "    shuffle=True,\n",
    "    drop_last=True,\n",
    ")\n",
    "\n",
    "optimizer = optim.Adam(model.parameters(), lr=step_size)\n",
    "for epoch in range(num_epochs):\n",
    "    for ib, (x_batch, y_batch) in enumerate(train_loader):\n",
    "        optimizer.zero_grad()\n",
    "        pred = model(x_batch)\n",
    "        loss = mse_fn(y_batch, pred)\n",
    "        loss.backward()\n",
    "        optimizer.step()\n",
    "\n",
    "with torch.no_grad():\n",
    "    pred_torch = (\n",
    "        model(torch.tensor(X_test_, dtype=torch.float32)).detach().cpu().numpy()\n",
    "    )"
   ]
  },
  {
   "cell_type": "markdown",
   "metadata": {},
   "source": [
    "## Compare predictions"
   ]
  },
  {
   "cell_type": "code",
   "execution_count": 9,
   "metadata": {},
   "outputs": [
    {
     "data": {
      "text/plain": [
       "Text(0, 0.5, '$y$')"
      ]
     },
     "execution_count": 9,
     "metadata": {},
     "output_type": "execute_result"
    },
    {
     "data": {
      "image/png": "[encoded data removed]",
      "text/plain": [
       "<Figure size 640x480 with 1 Axes>"
      ]
     },
     "metadata": {},
     "output_type": "display_data"
    }
   ],
   "source": [
    "plt.figure()\n",
    "plt.plot(\n",
    "    X,\n",
    "    y,\n",
    "    ls=\"\",\n",
    "    marker=\"o\",\n",
    "    markerfacecolor=\"b\",\n",
    "    markeredgecolor=\"k\",\n",
    "    markeredgewidth=1,\n",
    "    label=\"Train data\",\n",
    ")\n",
    "plt.plot(X_test, pred_flax, color=\"r\", lw=2, label=\"Flax\")\n",
    "plt.plot(X_test, pred_torch, color=\"b\", lw=2, label=\"PyTorch\")\n",
    "plt.legend(fontsize=12)\n",
    "plt.xlabel(r\"$x$\", fontsize=12)\n",
    "plt.ylabel(r\"$y$\", fontsize=12)"
   ]
  },
  {
   "cell_type": "code",
   "execution_count": 10,
   "metadata": {},
   "outputs": [
    {
     "name": "stdout",
     "output_type": "stream",
     "text": [
      "Author: Brian Staber\n",
      "\n",
      "Last updated: Sat Mar 16 2024\n",
      "\n",
      "Python implementation: CPython\n",
      "Python version       : 3.11.7\n",
      "IPython version      : 8.21.0\n",
      "\n",
      "numpy     : 1.26.3\n",
      "jax       : 0.4.23\n",
      "flax      : 0.8.0\n",
      "optax     : 0.1.9\n",
      "matplotlib: 3.8.2\n",
      "torch     : 2.2.1\n",
      "\n",
      "Watermark: 2.4.3\n",
      "\n"
     ]
    }
   ],
   "source": [
    "%reload_ext watermark\n",
    "%watermark -n -u -v -iv -w -a 'Brian Staber'"
   ]
  }
 ],
 "metadata": {
  "kernelspec": {
   "display_name": "Python 3",
   "language": "python",
   "name": "python3"
  },
  "language_info": {
   "codemirror_mode": {
    "name": "ipython",
    "version": 3
   },
   "file_extension": ".py",
   "mimetype": "text/x-python",
   "name": "python",
   "nbconvert_exporter": "python",
   "pygments_lexer": "ipython3",
   "version": "3.11.7"
  }
 },
 "nbformat": 4,
 "nbformat_minor": 2
}
